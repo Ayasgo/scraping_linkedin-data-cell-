{
 "cells": [
  {
   "cell_type": "code",
   "execution_count": 36,
   "metadata": {},
   "outputs": [],
   "source": [
    "from get_alumni_links import *\n",
    "from time import sleep\n",
    "from selenium.webdriver.common.keys import Keys\n",
    "import csv\n",
    "\n"
   ]
  },
  {
   "cell_type": "code",
   "execution_count": 47,
   "metadata": {},
   "outputs": [],
   "source": [
    "import time\n",
    "from selenium import webdriver\n",
    "from selenium.webdriver.common.by import By\n",
    "\n",
    "class GetInfoOf:\n",
    "    def __init__(self,driver:webdriver.Chrome,link):\n",
    "        self.link=link\n",
    "        self.driver = driver\n",
    "        self.driver.get(self.link)\n",
    "            \n",
    "    def getName(self):\n",
    "        try:\n",
    "            self.name=self.driver.find_element(By.TAG_NAME,'h1').text\n",
    "            return self.name\n",
    "        except:\n",
    "            return None\n",
    "   \n",
    "    def getImageLink(self):\n",
    "        try:\n",
    "            img=self.driver.find_element(By.CSS_SELECTOR,'img[width=\"200\"]')\n",
    "            img=img.get_attribute('src')\n",
    "            return img\n",
    "        except : \n",
    "            return None \n",
    "    def getLocation(self):\n",
    "        try:\n",
    "            location=self.driver.find_element(By.CSS_SELECTOR,'span[class=\"text-body-small inline t-black--light break-words\"]')\n",
    "            return location.text\n",
    "        except : \n",
    "            return None  \n",
    "    \n",
    "    def getCertificationsLink(self):\n",
    "        try:\n",
    "            self.driver.execute_script(\"window.scrollTo(0,document.body.scrollHeight);\")\n",
    "            time.sleep(1)\n",
    "            \n",
    "            sections=self.driver.find_elements(By.CSS_SELECTOR,'section[id^=\"ember\"]')\n",
    "            for section in sections:\n",
    "                try:\n",
    "                    title=section.find_element(By.TAG_NAME,'h2').text\n",
    "                    if \"Licences et certifications\" not in str(title).strip():\n",
    "                        raise Exception('title cherched not found') \n",
    "                except:\n",
    "                    title=section.find_element(By.CSS_SELECTOR,'span[aria-hidden=\"true\"]').text\n",
    "                if \"Licences et certifications\" in str(title).strip():\n",
    "                    footer=section.find_element(By.CLASS_NAME,\"pvs-list__footer-wrapper\")\n",
    "                    link=footer.find_element(By.TAG_NAME,'a').get_attribute(\"href\")\n",
    "                    return link     \n",
    "        except:\n",
    "            return None\n",
    "    \n",
    "    def getCertifications(self):\n",
    "        try:\n",
    "            \n",
    "            link=self.getCertificationsLink()\n",
    "            print('- '*20,link)\n",
    "            if link!=None:\n",
    "                self.driver.get(link)\n",
    "                time.sleep(3)\n",
    "\n",
    "            sections=self.driver.find_elements(By.CSS_SELECTOR,'section[id^=\"ember\"]')\n",
    "            sectionCherched=None\n",
    "            for section in sections:\n",
    "                try:\n",
    "                    try:\n",
    "                        title=section.find_element(By.TAG_NAME,'h2').text\n",
    "                        if \"Licences et certifications\" not in str(title).strip():\n",
    "                            raise Exception('title not found') \n",
    "                    except:\n",
    "                        title=section.find_element(By.CSS_SELECTOR,'span[aria-hidden=\"true\"]').text\n",
    "                    if \"Licences et certifications\" in str(title).strip():\n",
    "                        sectionCherched=section\n",
    "                        break\n",
    "                except:\n",
    "                    pass\n",
    "            \n",
    "            self.certificationsInfo=[]\n",
    "            li_tags=sectionCherched.find_elements(By.TAG_NAME,'li')\n",
    "            for li_tag in li_tags:\n",
    "                info=li_tag.find_elements(By.CSS_SELECTOR,'span[aria-hidden=\"true\"]')\n",
    "                info=[_.text for _ in info]\n",
    "                if info:\n",
    "                    self.certificationsInfo.append(info)\n",
    "\n",
    "            return self.certificationsInfo\n",
    "            \n",
    "            \n",
    "        except : \n",
    "            return None \n"
   ]
  },
  {
   "cell_type": "code",
   "execution_count": 38,
   "metadata": {},
   "outputs": [],
   "source": [
    "NOMBRE_ALUMNI=7\n",
    "\n",
    "driver=init()\n",
    "connecting(driver)\n",
    "sleep(2)\n",
    "urlsAlumni=[\"https://www.linkedin.com/in/ayoub-alalou-39b6a31a3\",\"https://www.linkedin.com/in/mouad-slimane-7506591b8\"]\n",
    "alumniInfo=[]"
   ]
  },
  {
   "cell_type": "code",
   "execution_count": 48,
   "metadata": {},
   "outputs": [],
   "source": [
    "driver.switch_to.window(driver.window_handles[0])\n",
    "urlsAlumni=[\"https://www.linkedin.com/in/ayoub-alalou-39b6a31a3\",\"https://www.linkedin.com/in/mouad-slimane-7506591b8\"]\n",
    "\n"
   ]
  },
  {
   "cell_type": "code",
   "execution_count": 49,
   "metadata": {},
   "outputs": [
    {
     "name": "stdout",
     "output_type": "stream",
     "text": [
      "- - - - - - - - - - - - - - - - - - - -  https://www.linkedin.com/in/ayoub-alalou-39b6a31a3/details/certifications?profileUrn=urn%3Ali%3Afsd_profile%3AACoAAC-fOGcBsbjRX22TOS-u1fQNL44nUd8ae_A\n",
      "{'name': 'Ayoub Alalou', 'link': 'https://www.linkedin.com/in/ayoub-alalou-39b6a31a3', 'img': 'https://media.licdn.com/dms/image/C5603AQGFR-D7FuqXFQ/profile-displayphoto-shrink_200_200/0/1636729601528?e=1676505600&v=beta&t=7qRP3KRMt3N1btQHN1m5gTH5ZFw_FL030DXFdFhSCAQ', 'location': 'Rabat, Rabat-Salé-Kénitra, Maroc', 'certifications': [['Data Analysis with Excel Pivot Tables', '365 Data Science', 'Émise le nov. 2022 · Sans date d’expiration', 'Identifiant de la certification CC-D6901482A2'], ['Introduction to Tableau', '365 Data Science', 'Émise le nov. 2022 · Sans date d’expiration', 'Identifiant de la certification CC-FDA6AB9497'], ['SQL + Tableau', '365 Data Science', 'Émise le nov. 2022 · Sans date d’expiration', 'Identifiant de la certification CC-367BF70B46'], ['Java (Basic)', 'HackerRank', 'Émise le mai 2022 · Sans date d’expiration', 'Identifiant de la certification 078ec9af4d83'], ['Python (Basic)', 'HackerRank', 'Émise le mai 2022 · Sans date d’expiration', 'Identifiant de la certification c9945768d8d8'], ['SQL (Basic', 'HackerRank', 'Émise le mai 2022 · Sans date d’expiration', 'Identifiant de la certification 1beca10fec56'], ['Data Analysis with Python', 'freeCodeCamp', 'Émise le déc. 2021 · Sans date d’expiration'], ['Data Visualization with Python', 'IBM', 'Émise le déc. 2021 · Sans date d’expiration', 'Identifiant de la certification 579723d154e844608b9bf5d2ba9f3218'], ['Neural Networks and Deep Learning', 'Coursera', 'Émise le déc. 2021 · Sans date d’expiration', 'Identifiant de la certification MEMKASVC52Q6'], ['M100: MongoDB for SQL Pros', 'MongoDB', 'Émise le nov. 2021 · Sans date d’expiration'], ['M001 : MongoDB Basics', 'MongoDB', 'Émise le avr. 2021 · Sans date d’expiration'], ['What is Data Science?', 'IBM', 'Émise le févr. 2021 · Sans date d’expiration'], ['Scientific Computing with Python', 'freeCodeCamp', 'Émise le janv. 2021 · Sans date d’expiration'], ['HTML', 'Sololearn', 'Émise le déc. 2020 · Sans date d’expiration'], ['Java', 'Sololearn', 'Émise le déc. 2020 · Sans date d’expiration'], ['Python 3', 'Sololearn', 'Émise le déc. 2020 · Sans date d’expiration'], ['SQL', 'Sololearn', 'Émise le déc. 2020 · Sans date d’expiration']]}\n",
      "\n",
      "\n",
      "**************************************************- - - - - - - - - - - - - - - - - - - -  https://www.linkedin.com/in/mouad-slimane-7506591b8/details/certifications?profileUrn=urn%3Ali%3Afsd_profile%3AACoAADKkXewBTbkab1zLPy4h1q3yzq3w1ihAcPU\n",
      "{'name': 'mouad slimane', 'link': 'https://www.linkedin.com/in/mouad-slimane-7506591b8', 'img': 'https://media.licdn.com/dms/image/C4D03AQG5OxDUlOHvdA/profile-displayphoto-shrink_200_200/0/1646653542524?e=1676505600&v=beta&t=PBoc_1x2FNAeOWFzxH0szyszE3IyspdmJzpro5Qu5Io', 'location': 'Prefecture of Salé, Rabat-Salé-Kénitra, Maroc', 'certifications': [['Data Visualization Using Python', 'IBM', 'Émise le janv. 2022 · Sans date d’expiration'], ['data science fondamentaux', 'Udemy', 'Émise le juin 2021 · Sans date d’expiration'], ['Advanced Deep Learning with Keras', 'DataCamp', 'Émise le mai 2021 · Sans date d’expiration', 'Identifiant de la certification 442aff140f0b040e9a16497b0405c086c1ae61d3'], ['Data Manipulation with pandas', 'DataCamp', 'Émise le mai 2021 · Sans date d’expiration', 'Identifiant de la certification eb87fe4f38c5e309afd151df51d5550cb23d55d0'], ['Image Processing in Python', 'DataCamp', 'Émise le mai 2021 · Sans date d’expiration', 'Identifiant de la certification c76795e79f6654a6104ba9525b7104a168b098fc'], ['Image Processing with Keras in Python', 'DataCamp', 'Émise le mai 2021 · Sans date d’expiration', 'Identifiant de la certification 7e971d98f4fe59216a152c43656b63a644a40216'], ['Google Cloud Platform Big Data and Machine Learning Fundamentals', 'Coursera | Google', 'Émise le mars 2021 · Sans date d’expiration']]}\n",
      "\n",
      "\n",
      "**************************************************5.0\n"
     ]
    }
   ],
   "source": [
    "\n",
    "for i,url in enumerate(urlsAlumni):\n",
    "    driver.execute_script(\"window.open('https://www.google.com/?hl=fr')\")\n",
    "    driver.switch_to.window(driver.window_handles[1])\n",
    "    sleep(2)\n",
    "\n",
    "    alumnus=GetInfoOf(driver=driver,link=url)\n",
    "    alumnusInfo=dict()\n",
    "    sleep(1)\n",
    "    alumnusInfo['name']=alumnus.getName()\n",
    "    alumnusInfo['link']=alumnus.link\n",
    "    alumnusInfo['img']=alumnus.getImageLink()\n",
    "    alumnusInfo['location']=alumnus.getLocation()\n",
    "    alumnusInfo['certifications']=alumnus.getCertifications()\n",
    "    alumniInfo.append(alumnusInfo)\n",
    "\n",
    "    print(alumnusInfo,end=(\"\\n\\n\\n\"+'*'*50))\n",
    "\n",
    "    driver.close()\n",
    "    driver.switch_to.window(driver.window_handles[0])\n",
    "    \n",
    "\n",
    "successPercentage=len(alumniInfo)/len(urlsAlumni)\n",
    "print(successPercentage)\n"
   ]
  },
  {
   "cell_type": "code",
   "execution_count": 24,
   "metadata": {},
   "outputs": [
    {
     "name": "stdout",
     "output_type": "stream",
     "text": [
      "---------> 2e\n",
      "---------> L’essentiel\n",
      "---------> Activité\n",
      "---------> Expérience\n",
      "---------> Formation\n",
      "---------> Licences et certifications\n",
      "[['Microsoft Certified: Azure Security Engineer Associate', 'Microsoft', 'Émise le mai 2022 · Sans date d’expiration', 'Identifiant de la certification 993028249'], ['HCIA Routing & Switching', 'HUAWEI Technology co., ltd.', 'Émise le août 2020 · Expire le août 2023', 'Identifiant de la certification 01010010180804697593803']]\n"
     ]
    }
   ],
   "source": [
    "certificationsInfo=[]\n",
    "sections=driver.find_elements(By.CSS_SELECTOR,'section[id^=\"ember\"]')\n",
    "sectionCherched=None\n",
    "for section in sections:\n",
    "    \n",
    "    title=section.find_element(By.CSS_SELECTOR,'span[aria-hidden=\"true\"]').text\n",
    "    print('--------->',title)\n",
    "    if  \"Licences et certifications\" in str(title).strip():\n",
    "        sectionCherched=section\n",
    "        break\n",
    "    \n",
    "\n",
    "\n",
    "li_tags=sectionCherched.find_elements(By.TAG_NAME,'li')\n",
    "for li_tag in li_tags:\n",
    "    info=li_tag.find_elements(By.CSS_SELECTOR,'span[aria-hidden=\"true\"]')\n",
    "    info=[_.text for _ in info]\n",
    "    if info:\n",
    "        certificationsInfo.append(info)\n",
    "\n",
    "print(certificationsInfo)"
   ]
  },
  {
   "cell_type": "code",
   "execution_count": 21,
   "metadata": {},
   "outputs": [
    {
     "ename": "StaleElementReferenceException",
     "evalue": "Message: stale element reference: element is not attached to the page document\n  (Session info: chrome=108.0.5359.99)\nStacktrace:\nBacktrace:\n\t(No symbol) [0x0061F243]\n\t(No symbol) [0x005A7FD1]\n\t(No symbol) [0x0049D04D]\n\t(No symbol) [0x0049FD34]\n\t(No symbol) [0x0049FBE5]\n\t(No symbol) [0x0049FE80]\n\t(No symbol) [0x004CBD55]\n\t(No symbol) [0x004CC22B]\n\t(No symbol) [0x004C2CA1]\n\t(No symbol) [0x004E85D4]\n\t(No symbol) [0x004C2BFF]\n\t(No symbol) [0x004E8804]\n\t(No symbol) [0x004FC9EB]\n\t(No symbol) [0x004E8386]\n\t(No symbol) [0x004C163C]\n\t(No symbol) [0x004C269D]\n\tGetHandleVerifier [0x008B9A22+2655074]\n\tGetHandleVerifier [0x008ACA24+2601828]\n\tGetHandleVerifier [0x006C8C0A+619850]\n\tGetHandleVerifier [0x006C7830+614768]\n\t(No symbol) [0x005B05FC]\n\t(No symbol) [0x005B5968]\n\t(No symbol) [0x005B5A55]\n\t(No symbol) [0x005C051B]\n\tBaseThreadInitThunk [0x762F00F9+25]\n\tRtlGetAppContainerNamedObjectPath [0x77E57BBE+286]\n\tRtlGetAppContainerNamedObjectPath [0x77E57B8E+238]\n",
     "output_type": "error",
     "traceback": [
      "\u001b[1;31m---------------------------------------------------------------------------\u001b[0m",
      "\u001b[1;31mStaleElementReferenceException\u001b[0m            Traceback (most recent call last)",
      "Cell \u001b[1;32mIn [21], line 1\u001b[0m\n\u001b[1;32m----> 1\u001b[0m section\u001b[39m.\u001b[39;49mfind_element(By\u001b[39m.\u001b[39;49mTAG_NAME,\u001b[39m'\u001b[39;49m\u001b[39mh2\u001b[39;49m\u001b[39m'\u001b[39;49m)\u001b[39m.\u001b[39mtext\n",
      "File \u001b[1;32mc:\\Users\\Aymane\\AppData\\Local\\Programs\\Python\\Python311\\Lib\\site-packages\\selenium\\webdriver\\remote\\webelement.py:433\u001b[0m, in \u001b[0;36mWebElement.find_element\u001b[1;34m(self, by, value)\u001b[0m\n\u001b[0;32m    430\u001b[0m     by \u001b[39m=\u001b[39m By\u001b[39m.\u001b[39mCSS_SELECTOR\n\u001b[0;32m    431\u001b[0m     value \u001b[39m=\u001b[39m \u001b[39m'\u001b[39m\u001b[39m[name=\u001b[39m\u001b[39m\"\u001b[39m\u001b[39m%s\u001b[39;00m\u001b[39m\"\u001b[39m\u001b[39m]\u001b[39m\u001b[39m'\u001b[39m \u001b[39m%\u001b[39m value\n\u001b[1;32m--> 433\u001b[0m \u001b[39mreturn\u001b[39;00m \u001b[39mself\u001b[39;49m\u001b[39m.\u001b[39;49m_execute(Command\u001b[39m.\u001b[39;49mFIND_CHILD_ELEMENT, {\u001b[39m\"\u001b[39;49m\u001b[39musing\u001b[39;49m\u001b[39m\"\u001b[39;49m: by, \u001b[39m\"\u001b[39;49m\u001b[39mvalue\u001b[39;49m\u001b[39m\"\u001b[39;49m: value})[\u001b[39m\"\u001b[39m\u001b[39mvalue\u001b[39m\u001b[39m\"\u001b[39m]\n",
      "File \u001b[1;32mc:\\Users\\Aymane\\AppData\\Local\\Programs\\Python\\Python311\\Lib\\site-packages\\selenium\\webdriver\\remote\\webelement.py:410\u001b[0m, in \u001b[0;36mWebElement._execute\u001b[1;34m(self, command, params)\u001b[0m\n\u001b[0;32m    408\u001b[0m     params \u001b[39m=\u001b[39m {}\n\u001b[0;32m    409\u001b[0m params[\u001b[39m\"\u001b[39m\u001b[39mid\u001b[39m\u001b[39m\"\u001b[39m] \u001b[39m=\u001b[39m \u001b[39mself\u001b[39m\u001b[39m.\u001b[39m_id\n\u001b[1;32m--> 410\u001b[0m \u001b[39mreturn\u001b[39;00m \u001b[39mself\u001b[39;49m\u001b[39m.\u001b[39;49m_parent\u001b[39m.\u001b[39;49mexecute(command, params)\n",
      "File \u001b[1;32mc:\\Users\\Aymane\\AppData\\Local\\Programs\\Python\\Python311\\Lib\\site-packages\\selenium\\webdriver\\remote\\webdriver.py:444\u001b[0m, in \u001b[0;36mWebDriver.execute\u001b[1;34m(self, driver_command, params)\u001b[0m\n\u001b[0;32m    442\u001b[0m response \u001b[39m=\u001b[39m \u001b[39mself\u001b[39m\u001b[39m.\u001b[39mcommand_executor\u001b[39m.\u001b[39mexecute(driver_command, params)\n\u001b[0;32m    443\u001b[0m \u001b[39mif\u001b[39;00m response:\n\u001b[1;32m--> 444\u001b[0m     \u001b[39mself\u001b[39;49m\u001b[39m.\u001b[39;49merror_handler\u001b[39m.\u001b[39;49mcheck_response(response)\n\u001b[0;32m    445\u001b[0m     response[\u001b[39m\"\u001b[39m\u001b[39mvalue\u001b[39m\u001b[39m\"\u001b[39m] \u001b[39m=\u001b[39m \u001b[39mself\u001b[39m\u001b[39m.\u001b[39m_unwrap_value(response\u001b[39m.\u001b[39mget(\u001b[39m\"\u001b[39m\u001b[39mvalue\u001b[39m\u001b[39m\"\u001b[39m, \u001b[39mNone\u001b[39;00m))\n\u001b[0;32m    446\u001b[0m     \u001b[39mreturn\u001b[39;00m response\n",
      "File \u001b[1;32mc:\\Users\\Aymane\\AppData\\Local\\Programs\\Python\\Python311\\Lib\\site-packages\\selenium\\webdriver\\remote\\errorhandler.py:249\u001b[0m, in \u001b[0;36mErrorHandler.check_response\u001b[1;34m(self, response)\u001b[0m\n\u001b[0;32m    247\u001b[0m         alert_text \u001b[39m=\u001b[39m value[\u001b[39m\"\u001b[39m\u001b[39malert\u001b[39m\u001b[39m\"\u001b[39m]\u001b[39m.\u001b[39mget(\u001b[39m\"\u001b[39m\u001b[39mtext\u001b[39m\u001b[39m\"\u001b[39m)\n\u001b[0;32m    248\u001b[0m     \u001b[39mraise\u001b[39;00m exception_class(message, screen, stacktrace, alert_text)  \u001b[39m# type: ignore[call-arg]  # mypy is not smart enough here\u001b[39;00m\n\u001b[1;32m--> 249\u001b[0m \u001b[39mraise\u001b[39;00m exception_class(message, screen, stacktrace)\n",
      "\u001b[1;31mStaleElementReferenceException\u001b[0m: Message: stale element reference: element is not attached to the page document\n  (Session info: chrome=108.0.5359.99)\nStacktrace:\nBacktrace:\n\t(No symbol) [0x0061F243]\n\t(No symbol) [0x005A7FD1]\n\t(No symbol) [0x0049D04D]\n\t(No symbol) [0x0049FD34]\n\t(No symbol) [0x0049FBE5]\n\t(No symbol) [0x0049FE80]\n\t(No symbol) [0x004CBD55]\n\t(No symbol) [0x004CC22B]\n\t(No symbol) [0x004C2CA1]\n\t(No symbol) [0x004E85D4]\n\t(No symbol) [0x004C2BFF]\n\t(No symbol) [0x004E8804]\n\t(No symbol) [0x004FC9EB]\n\t(No symbol) [0x004E8386]\n\t(No symbol) [0x004C163C]\n\t(No symbol) [0x004C269D]\n\tGetHandleVerifier [0x008B9A22+2655074]\n\tGetHandleVerifier [0x008ACA24+2601828]\n\tGetHandleVerifier [0x006C8C0A+619850]\n\tGetHandleVerifier [0x006C7830+614768]\n\t(No symbol) [0x005B05FC]\n\t(No symbol) [0x005B5968]\n\t(No symbol) [0x005B5A55]\n\t(No symbol) [0x005C051B]\n\tBaseThreadInitThunk [0x762F00F9+25]\n\tRtlGetAppContainerNamedObjectPath [0x77E57BBE+286]\n\tRtlGetAppContainerNamedObjectPath [0x77E57B8E+238]\n"
     ]
    }
   ],
   "source": [
    "section.find_element(By.TAG_NAME,'h2').text"
   ]
  },
  {
   "cell_type": "code",
   "execution_count": 33,
   "metadata": {},
   "outputs": [
    {
     "name": "stdout",
     "output_type": "stream",
     "text": [
      "55\n"
     ]
    }
   ],
   "source": [
    "try:\n",
    "    title='1 2'\n",
    "    if \"5\" not in str(title).strip():\n",
    "        raise Exception('title not found') \n",
    "except:\n",
    "    title='55'\n",
    "\n",
    "print(title)"
   ]
  },
  {
   "cell_type": "code",
   "execution_count": 3,
   "metadata": {},
   "outputs": [],
   "source": [
    "import csv\n",
    "with open('../../alumniInfo.csv', 'r') as f:\n",
    "    csv_reader = csv.reader(f)\n",
    "    for i in csv_reader:\n",
    "        if i:\n",
    "            if i[-1]==None:\n",
    "                #driver.execute_script(f\"window.open('{i[1]}')\")\n",
    "                print(i[1])\n",
    "                #sleep(2)\n",
    "        "
   ]
  },
  {
   "cell_type": "code",
   "execution_count": 25,
   "metadata": {},
   "outputs": [
    {
     "ename": "SyntaxError",
     "evalue": "invalid decimal literal (<string>, line 1)",
     "output_type": "error",
     "traceback": [
      "Traceback \u001b[1;36m(most recent call last)\u001b[0m:\n",
      "\u001b[0m  File \u001b[0;32mc:\\Users\\Aymane\\AppData\\Local\\Programs\\Python\\Python311\\Lib\\site-packages\\IPython\\core\\interactiveshell.py:3433\u001b[0m in \u001b[0;35mrun_code\u001b[0m\n    exec(code_obj, self.user_global_ns, self.user_ns)\u001b[0m\n",
      "\u001b[1;36m  Cell \u001b[1;32mIn [25], line 2\u001b[1;36m\n\u001b[1;33m    print(eval('['+i+']'))\u001b[1;36m\n",
      "\u001b[1;36m  File \u001b[1;32m<string>:1\u001b[1;36m\u001b[0m\n\u001b[1;33m    [Ayoub Alalou,https://www.linkedin.com/in/ayoub-alalou-39b6a31a3,https://media.licdn.com/dms/image/C5603AQGFR-D7FuqXFQ/profile-displayphoto-shrink_200_200/0/1636729601528?e=1676505600&v=beta&t=7qRP3KRMt3N1btQHN1m5gTH5ZFw_FL030DXFdFhSCAQ,\"Rabat, Rabat-Salé-Kénitra, Maroc\",\"[['Data Analysis with Excel Pivot Tables', '365 Data Science', 'Émise le nov. 2022 · Sans date d’expiration', 'Identifiant de la certification CC-D6901482A2'], ['Introduction to Tableau', '365 Data Science', 'Émise le nov. 2022 · Sans date d’expiration', 'Identifiant de la certification CC-FDA6AB9497'], ['SQL + Tableau', '365 Data Science', 'Émise le nov. 2022 · Sans date d’expiration', 'Identifiant de la certification CC-367BF70B46'], ['Java (Basic)', 'HackerRank', 'Émise le mai 2022 · Sans date d’expiration', 'Identifiant de la certification 078ec9af4d83'], ['Python (Basic)', 'HackerRank', 'Émise le mai 2022 · Sans date d’expiration', 'Identifiant de la certification c9945768d8d8'], ['SQL (Basic', 'HackerRank', 'Émise le mai 2022 · Sans date d’expiration', 'Identifiant de la certification 1beca10fec56'], ['Data Analysis with Python', 'freeCodeCamp', 'Émise le déc. 2021 · Sans date d’expiration'], ['Data Visualization with Python', 'IBM', 'Émise le déc. 2021 · Sans date d’expiration', 'Identifiant de la certification 579723d154e844608b9bf5d2ba9f3218'], ['Neural Networks and Deep Learning', 'Coursera', 'Émise le déc. 2021 · Sans date d’expiration', 'Identifiant de la certification MEMKASVC52Q6'], ['M100: MongoDB for SQL Pros', 'MongoDB', 'Émise le nov. 2021 · Sans date d’expiration'], ['M001 : MongoDB Basics', 'MongoDB', 'Émise le avr. 2021 · Sans date d’expiration'], ['What is Data Science?', 'IBM', 'Émise le févr. 2021 · Sans date d’expiration'], ['Scientific Computing with Python', 'freeCodeCamp', 'Émise le janv. 2021 · Sans date d’expiration'], ['HTML', 'Sololearn', 'Émise le déc. 2020 · Sans date d’expiration'], ['Java', 'Sololearn', 'Émise le déc. 2020 · Sans date d’expiration'], ['Python 3', 'Sololearn', 'Émise le déc. 2020 · Sans date d’expiration'], ['SQL', 'Sololearn', 'Émise le déc. 2020 · Sans date d’expiration']]\"]\u001b[0m\n\u001b[1;37m                                                            ^\u001b[0m\n\u001b[1;31mSyntaxError\u001b[0m\u001b[1;31m:\u001b[0m invalid decimal literal\n"
     ]
    }
   ],
   "source": []
  },
  {
   "cell_type": "code",
   "execution_count": null,
   "metadata": {},
   "outputs": [],
   "source": []
  }
 ],
 "metadata": {
  "kernelspec": {
   "display_name": "Python 3",
   "language": "python",
   "name": "python3"
  },
  "language_info": {
   "codemirror_mode": {
    "name": "ipython",
    "version": 3
   },
   "file_extension": ".py",
   "mimetype": "text/x-python",
   "name": "python",
   "nbconvert_exporter": "python",
   "pygments_lexer": "ipython3",
   "version": "3.11.0"
  },
  "orig_nbformat": 4,
  "vscode": {
   "interpreter": {
    "hash": "9479682ad2972d899e15b4cf71fa9220ee759bd91b76146329a8f652fe307f13"
   }
  }
 },
 "nbformat": 4,
 "nbformat_minor": 2
}
